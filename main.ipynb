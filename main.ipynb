{
 "cells": [
  {
   "cell_type": "code",
   "execution_count": 39,
   "id": "66acda67-941f-4bcc-9997-06f1e4e2d9d7",
   "metadata": {
    "tags": []
   },
   "outputs": [],
   "source": [
    "import os\n",
    "import csv\n",
    "from pathlib import Path\n",
    "import pandas as pd"
   ]
  },
  {
   "cell_type": "code",
   "execution_count": 40,
   "id": "d92b3161-e0df-4e3b-8b3e-a56c62a12248",
   "metadata": {
    "tags": []
   },
   "outputs": [],
   "source": [
    "# File path to the dataset\n",
    "file_path = \"election_data.csv\""
   ]
  },
  {
   "cell_type": "code",
   "execution_count": 51,
   "id": "ba919d29-218e-4f2a-a11f-1b78ea2da867",
   "metadata": {
    "tags": []
   },
   "outputs": [],
   "source": [
    "election_csv=os.path.join(\"Starter_Code 3\",\"PyPoll\",\"Resources\",\"election_data.csv\")"
   ]
  },
  {
   "cell_type": "code",
   "execution_count": 52,
   "id": "6cd40e5c-0ebc-408c-839f-e691b6ae2405",
   "metadata": {
    "tags": []
   },
   "outputs": [],
   "source": [
    "# Initialize variables\n",
    "total_votes = 0\n",
    "candidate_votes = {}\n",
    "candidates_list = []"
   ]
  },
  {
   "cell_type": "code",
   "execution_count": 53,
   "id": "e503b38a-98cb-4350-980b-25286cc8109b",
   "metadata": {
    "tags": []
   },
   "outputs": [],
   "source": [
    "# Read the CSV file into a DataFrame\n",
    "file_path = 'election_data.csv'\n",
    "df = pd.read_csv(file_path)\n",
    "\n",
    "\n"
   ]
  },
  {
   "cell_type": "code",
   "execution_count": 54,
   "id": "6fb7e5ce-54b8-4e32-9291-19af24f04689",
   "metadata": {
    "tags": []
   },
   "outputs": [
    {
     "name": "stdout",
     "output_type": "stream",
     "text": [
      "Ballot ID\n",
      "County\n",
      "Candidate\n"
     ]
    }
   ],
   "source": [
    "with open(\"election_data.csv\") as csvfile:\n",
    "    reader = pd.read_csv(\"election_data.csv\")\n",
    "    reader.head()\n",
    "    for row in reader:\n",
    "        print(row)"
   ]
  },
  {
   "cell_type": "code",
   "execution_count": 58,
   "id": "87e7ad57-1b25-4556-896d-af36defeff93",
   "metadata": {
    "tags": []
   },
   "outputs": [],
   "source": [
    "total_votes = len(data)\n",
    "\n",
    "candidate_votes = data['Candidate'].value_counts()\n",
    "\n",
    "percentages = (candidate_votes / total_votes) * 100\n",
    "\n",
    "winner = candidate_votes.idxmax()"
   ]
  },
  {
   "cell_type": "code",
   "execution_count": 59,
   "id": "acf21dd5-f688-4773-a0fc-34988e4c61ef",
   "metadata": {
    "tags": []
   },
   "outputs": [
    {
     "name": "stdout",
     "output_type": "stream",
     "text": [
      "Election Results\n",
      "-------------------------\n",
      "Total Votes: 369711\n",
      "-------------------------\n",
      "Diana DeGette: 73.812% (272892)\n",
      "Charles Casper Stockham: 23.049% (85213)\n",
      "Raymon Anthony Doane: 3.139% (11606)\n",
      "-------------------------\n",
      "Winner: Diana DeGette\n",
      "-------------------------\n"
     ]
    }
   ],
   "source": [
    "# Display the results\n",
    "print(\"Election Results\")\n",
    "print(\"-------------------------\")\n",
    "print(f\"Total Votes: {total_votes}\")\n",
    "print(\"-------------------------\")\n",
    "for candidate, votes in candidate_votes.items():\n",
    "    percentage = percentages[candidate]\n",
    "    print(f\"{candidate}: {percentage:.3f}% ({votes})\")\n",
    "print(\"-------------------------\")\n",
    "print(f\"Winner: {winner}\")\n",
    "print(\"-------------------------\")"
   ]
  },
  {
   "cell_type": "code",
   "execution_count": null,
   "id": "aae7c2e9-bc8a-4160-b490-ea5620e62031",
   "metadata": {},
   "outputs": [],
   "source": []
  }
 ],
 "metadata": {
  "kernelspec": {
   "display_name": "Python 3 (ipykernel)",
   "language": "python",
   "name": "python3"
  },
  "language_info": {
   "codemirror_mode": {
    "name": "ipython",
    "version": 3
   },
   "file_extension": ".py",
   "mimetype": "text/x-python",
   "name": "python",
   "nbconvert_exporter": "python",
   "pygments_lexer": "ipython3",
   "version": "3.10.11"
  }
 },
 "nbformat": 4,
 "nbformat_minor": 5
}
