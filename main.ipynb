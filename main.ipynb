{
 "cells": [
  {
   "cell_type": "code",
   "execution_count": 13,
   "id": "9599de0b-539d-4b24-b65a-e458d95617e8",
   "metadata": {
    "tags": []
   },
   "outputs": [],
   "source": [
    "import os\n",
    "import csv\n",
    "from pathlib import Path\n",
    "import pandas as pd"
   ]
  },
  {
   "cell_type": "code",
   "execution_count": 14,
   "id": "08f4d97c-5c04-446d-9891-7d4977898888",
   "metadata": {
    "tags": []
   },
   "outputs": [],
   "source": [
    "# File path to the dataset\n",
    "file_path = \"budget_data.csv\""
   ]
  },
  {
   "cell_type": "code",
   "execution_count": 15,
   "id": "a473bead-70d7-4624-b0ec-f0c68f9199aa",
   "metadata": {
    "tags": []
   },
   "outputs": [],
   "source": [
    "budget_csv=os.path.join('','PyBank','Resources','budget_data.csv')"
   ]
  },
  {
   "cell_type": "code",
   "execution_count": 16,
   "id": "b01103c1-130e-4b61-a49c-aee717747df1",
   "metadata": {
    "tags": []
   },
   "outputs": [],
   "source": [
    "# Initialize variables\n",
    "total_months = 0\n",
    "total_profit_losses = 0\n",
    "previous_profit_loss = 0\n",
    "monthly_changes = []\n",
    "months = []"
   ]
  },
  {
   "cell_type": "code",
   "execution_count": 19,
   "id": "359c8c73-1d15-478d-b10b-33fb0356b88a",
   "metadata": {
    "tags": []
   },
   "outputs": [
    {
     "name": "stdout",
     "output_type": "stream",
     "text": [
      "Date\n",
      "Profit/Losses\n"
     ]
    }
   ],
   "source": [
    "with open(\"budget_data.csv\") as csvfile:\n",
    "    reader = pd.read_csv(\"budget_data.csv\")\n",
    "    reader.head()\n",
    "    for row in reader:\n",
    "        print(row)"
   ]
  },
  {
   "cell_type": "code",
   "execution_count": 24,
   "id": "beeef218-e828-4dc6-abde-d1e342eac02d",
   "metadata": {},
   "outputs": [],
   "source": [
    "\n",
    "file_path = 'budget_data.csv'\n",
    "df = pd.read_csv(file_path)\n",
    "\n",
    "\n",
    "total_months = df['Date'].count()\n",
    "\n",
    "\n",
    "net_total = df['Profit/Losses'].sum()\n",
    "\n",
    "\n",
    "df['Changes'] = df['Profit/Losses'].diff()\n",
    "average_change = df['Changes'].mean()\n",
    "\n",
    "\n",
    "greatest_increase = df['Changes'].max()\n",
    "greatest_increase_date = df.loc[df['Changes'] == greatest_increase, 'Date'].values[0]\n",
    "\n",
    "greatest_decrease = df['Changes'].min()\n",
    "greatest_decrease_date = df.loc[df['Changes'] == greatest_decrease, 'Date'].values[0]\n",
    "\n"
   ]
  },
  {
   "cell_type": "code",
   "execution_count": 25,
   "id": "83056b8d-834e-4479-aa42-bf1e460816ed",
   "metadata": {
    "tags": []
   },
   "outputs": [
    {
     "name": "stdout",
     "output_type": "stream",
     "text": [
      "Financial Analysis\n",
      "------------------\n",
      "Total Months: 86\n",
      "Total: $22564198\n",
      "Average Change: $-8311.11\n",
      "Greatest Increase in Profits: Aug-16 ($1862002)\n",
      "Greatest Decrease in Profits: Feb-14 ($-1825558)\n"
     ]
    }
   ],
   "source": [
    "\n",
    "print(\"Financial Analysis\")\n",
    "print(\"------------------\")\n",
    "print(f\"Total Months: {total_months}\")\n",
    "print(f\"Total: ${net_total}\")\n",
    "print(f\"Average Change: ${average_change:.2f}\")\n",
    "print(f\"Greatest Increase in Profits: {greatest_increase_date} (${greatest_increase:.0f})\")\n",
    "print(f\"Greatest Decrease in Profits: {greatest_decrease_date} (${greatest_decrease:.0f})\")"
   ]
  },
  {
   "cell_type": "code",
   "execution_count": null,
   "id": "a65ae9d3-3cbd-4d34-9659-943457f99f27",
   "metadata": {},
   "outputs": [],
   "source": []
  }
 ],
 "metadata": {
  "kernelspec": {
   "display_name": "Python 3 (ipykernel)",
   "language": "python",
   "name": "python3"
  },
  "language_info": {
   "codemirror_mode": {
    "name": "ipython",
    "version": 3
   },
   "file_extension": ".py",
   "mimetype": "text/x-python",
   "name": "python",
   "nbconvert_exporter": "python",
   "pygments_lexer": "ipython3",
   "version": "3.10.11"
  }
 },
 "nbformat": 4,
 "nbformat_minor": 5
}
